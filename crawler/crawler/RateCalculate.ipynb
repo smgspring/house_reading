{
 "cells": [
  {
   "cell_type": "markdown",
   "metadata": {},
   "source": [
    "# 전환율을 이용해서 실질월세 계산"
   ]
  },
  {
   "cell_type": "code",
   "execution_count": 1,
   "metadata": {},
   "outputs": [],
   "source": [
    "import pandas as pd\n",
    "from APICall import HouseType"
   ]
  },
  {
   "cell_type": "code",
   "execution_count": 33,
   "metadata": {},
   "outputs": [],
   "source": [
    "def calc_newRent(houseType: HouseType, year: int) -> pd.DataFrame:\n",
    "    FileName = f\"data/{houseType.value}_{year}.csv\"\n",
    "    df = pd.read_csv(FileName)\n",
    "\n",
    "    ChangeRateFileName = f\"data/ChangeRate_SDMG_{houseType.value}.csv\"\n",
    "    ChangeRate = pd.read_csv(ChangeRateFileName)\n",
    "\n",
    "    df[\"YM\"] = df[\"dealDate\"] // 100\n",
    "    merged = pd.merge(df, ChangeRate, left_on=\"YM\", right_on=\"Date\", how=\"left\")\n",
    "\n",
    "    merged[\"monthlyRent\"] = merged[\"monthlyRent\"].astype(str).str.replace(',', '').astype(float)\n",
    "    merged[\"deposit\"] = merged[\"deposit\"].astype(str).str.replace(',', '').astype(float)\n",
    "    merged[\"calcedRent\"] = merged[\"monthlyRent\"] + merged[\"deposit\"]*merged[\"ChangeRate\"]/100\n",
    "    \n",
    "    merged[\"RPA\"] = merged[\"calcedRent\"] / merged[\"excluUseAr\"]\n",
    "    merged[\"RPA\"] = merged[\"RPA\"].round(2)\n",
    "\n",
    "    merged = merged.drop(columns=[\"YM\", \"Date\"])\n",
    "    columns = [\"dealDate\", \"deposit\", \"monthlyRent\", \"ChangeRate\", \"calcedRent\", \"excluUseAr\", \"RPA\"]\n",
    "    for col in merged.columns:\n",
    "        if col not in columns:\n",
    "            columns.append(col)\n",
    "    merged = merged[columns]\n",
    "    print(merged)\n",
    "    merged.to_csv(\"data/tmp.csv\")\n",
    "    "
   ]
  },
  {
   "cell_type": "code",
   "execution_count": 34,
   "metadata": {},
   "outputs": [
    {
     "name": "stdout",
     "output_type": "stream",
     "text": [
      "      dealDate  deposit  monthlyRent  ChangeRate  ...  sggCd  sggNm  umdNm  useRRRight\n",
      "0     20110107   5000.0         30.0     7.20000  ...  11410   서대문구    연희동            \n",
      "1     20110107   5000.0         30.0     7.20000  ...  11410   서대문구    연희동            \n",
      "2     20110108   2000.0         65.0     7.20000  ...  11410   서대문구    대신동            \n",
      "3     20110110   8000.0          0.0     7.20000  ...  11410   서대문구    창천동            \n",
      "4     20110110   1000.0         55.0     7.20000  ...  11410   서대문구    연희동            \n",
      "...        ...      ...          ...         ...  ...    ...    ...    ...         ...\n",
      "1064  20191226  19000.0          0.0     3.71594  ...  11410   서대문구    창천동            \n",
      "1065  20191228  10000.0         35.0     3.71594  ...  11410   서대문구    대현동            \n",
      "1066  20191228   1000.0         85.0     3.71594  ...  11410   서대문구    대현동            \n",
      "1067  20191231   5000.0         75.0     3.71594  ...  11410   서대문구    대현동            \n",
      "1068  20191231  18500.0          0.0     3.71594  ...  11410   서대문구    대현동            \n",
      "\n",
      "[1069 rows x 19 columns]\n"
     ]
    }
   ],
   "source": [
    "calc_newRent(HouseType.Apt, 2010)"
   ]
  }
 ],
 "metadata": {
  "kernelspec": {
   "display_name": "crawler-BMmfytdt-py3.13",
   "language": "python",
   "name": "python3"
  },
  "language_info": {
   "codemirror_mode": {
    "name": "ipython",
    "version": 3
   },
   "file_extension": ".py",
   "mimetype": "text/x-python",
   "name": "python",
   "nbconvert_exporter": "python",
   "pygments_lexer": "ipython3",
   "version": "3.13.1"
  }
 },
 "nbformat": 4,
 "nbformat_minor": 2
}
