{
 "cells": [
  {
   "cell_type": "markdown",
   "metadata": {},
   "source": [
    "# 전환율을 이용해서 실질월세 계산"
   ]
  },
  {
   "cell_type": "code",
   "execution_count": 5,
   "metadata": {},
   "outputs": [],
   "source": [
    "import pandas as pd\n",
    "from APICall import HouseType"
   ]
  },
  {
   "cell_type": "code",
   "execution_count": 6,
   "metadata": {},
   "outputs": [],
   "source": [
    "def calc_newRent(houseType: HouseType, year: int) -> pd.DataFrame:\n",
    "    FileName = f\"data/{houseType.value}_{year}.csv\"\n",
    "    df = pd.read_csv(FileName)\n",
    "\n",
    "    ChangeRateFileName = f\"data/ChangeRate_SDMG_{houseType.value}.csv\"\n",
    "    ChangeRate = pd.read_csv(ChangeRateFileName)\n",
    "\n",
    "    df[\"YM\"] = df[\"dealDate\"] // 100\n",
    "    merged = pd.merge(df, ChangeRate, left_on=\"YM\", right_on=\"Date\", how=\"left\")\n",
    "\n",
    "    merged[\"monthlyRent\"] = merged[\"monthlyRent\"].astype(str).str.replace(',', '').astype(float)\n",
    "    merged[\"deposit\"] = merged[\"deposit\"].astype(str).str.replace(',', '').astype(float)\n",
    "    merged[\"calcedRent\"] = merged[\"monthlyRent\"] + merged[\"deposit\"]*merged[\"ChangeRate\"]/1200\n",
    "    \n",
    "    merged[\"RPA\"] = merged[\"calcedRent\"] / merged[\"excluUseAr\"]\n",
    "    merged[\"RPA\"] = merged[\"RPA\"].round(2)\n",
    "\n",
    "    merged = merged.drop(columns=[\"YM\", \"Date\"])\n",
    "    columns = [\"dealDate\", \"deposit\", \"monthlyRent\", \"ChangeRate\", \"calcedRent\", \"excluUseAr\", \"RPA\"]\n",
    "    for col in merged.columns:\n",
    "        if col not in columns:\n",
    "            columns.append(col)\n",
    "    merged = merged[columns]\n",
    "    print(merged)\n",
    "    merged.to_csv(\"data/tmp.csv\")\n",
    "    "
   ]
  },
  {
   "cell_type": "code",
   "execution_count": 7,
   "metadata": {},
   "outputs": [
    {
     "name": "stdout",
     "output_type": "stream",
     "text": [
      "      dealDate  deposit  monthlyRent  ChangeRate  calcedRent  excluUseAr  \\\n",
      "0     20110105   1500.0         60.0     7.20000   69.000000      68.760   \n",
      "1     20110105  18000.0          0.0     7.20000  108.000000      59.584   \n",
      "2     20110110  22000.0          0.0     7.20000  132.000000      84.740   \n",
      "3     20110110   7000.0        100.0     7.20000  142.000000      84.240   \n",
      "4     20110120  28000.0          0.0     7.20000  168.000000     122.910   \n",
      "...        ...      ...          ...         ...         ...         ...   \n",
      "1075  20191220  56000.0          0.0     3.71594  173.410533      84.971   \n",
      "1076  20191224  43000.0          0.0     3.71594  133.154517      84.330   \n",
      "1077  20191225  32500.0          0.0     3.71594  100.640042      59.400   \n",
      "1078  20191230  50000.0          0.0     3.71594  154.830833      84.956   \n",
      "1079  20191230  90000.0          0.0     3.71594  278.695500     120.492   \n",
      "\n",
      "       RPA        aptNm  buildYear contractTerm contractType  floor   jibun  \\\n",
      "0     1.00           원일       1970          NaN                   3  294-36   \n",
      "1     1.81       대우푸르지오       2002          NaN                   6     739   \n",
      "2     1.56           대림       1993          NaN                   7     700   \n",
      "3     1.69        북아현3차       2002          NaN                   5  189-22   \n",
      "4     1.37       경남(2차)       1999          NaN                   6   118-9   \n",
      "...    ...          ...        ...          ...          ...    ...     ...   \n",
      "1075  2.04  DMC파크뷰자이1단지       2015          NaN                  11     385   \n",
      "1076  1.58      홍제삼성래미안       2001          NaN                  11     461   \n",
      "1077  1.69       남가좌동현대       1999          NaN                   7     376   \n",
      "1078  1.82        북한산더샵       2017          NaN                   1     464   \n",
      "1079  2.31  DMC파크뷰자이1단지       2015          NaN                  14     385   \n",
      "\n",
      "      preDeposit  preMonthlyRent  sggCd umdNm useRRRight  \n",
      "0            NaN             NaN  11410   홍제동             \n",
      "1            NaN             NaN  11410   연희동             \n",
      "2            NaN             NaN  11410   연희동             \n",
      "3            NaN             NaN  11410  북아현동             \n",
      "4            NaN             NaN  11410  북아현동             \n",
      "...          ...             ...    ...   ...        ...  \n",
      "1075         NaN             NaN  11410  남가좌동             \n",
      "1076         NaN             NaN  11410   홍제동             \n",
      "1077         NaN             NaN  11410  남가좌동             \n",
      "1078         NaN             NaN  11410   홍은동             \n",
      "1079         NaN             NaN  11410  남가좌동             \n",
      "\n",
      "[1080 rows x 18 columns]\n"
     ]
    }
   ],
   "source": [
    "calc_newRent(HouseType.Apt, 2010)"
   ]
  }
 ],
 "metadata": {
  "kernelspec": {
   "display_name": "crawler-BMmfytdt-py3.13",
   "language": "python",
   "name": "python3"
  },
  "language_info": {
   "codemirror_mode": {
    "name": "ipython",
    "version": 3
   },
   "file_extension": ".py",
   "mimetype": "text/x-python",
   "name": "python",
   "nbconvert_exporter": "python",
   "pygments_lexer": "ipython3",
   "version": "3.13.1"
  }
 },
 "nbformat": 4,
 "nbformat_minor": 2
}
