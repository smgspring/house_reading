{
 "cells": [
  {
   "cell_type": "markdown",
   "metadata": {},
   "source": [
    "# 전환율을 이용해서 실질월세 계산"
   ]
  },
  {
   "cell_type": "code",
   "execution_count": 2,
   "metadata": {},
   "outputs": [
    {
     "name": "stdout",
     "output_type": "stream",
     "text": [
      "2020년 데이터 수집 완료\n",
      "2021년 데이터 수집 완료\n",
      "2022년 데이터 수집 완료\n",
      "2023년 데이터 수집 완료\n",
      "2024년 데이터 수집 완료\n"
     ]
    }
   ],
   "source": [
    "import pandas as pd\n",
    "from APICall import HouseType"
   ]
  },
  {
   "cell_type": "code",
   "execution_count": 4,
   "metadata": {},
   "outputs": [],
   "source": [
    "def calc_newRent(houseType: HouseType, year: int) -> pd.DataFrame:\n",
    "    FileName = f\"data/{houseType.value}_{year}.csv\"\n",
    "    df = pd.read_csv(FileName)\n",
    "\n",
    "    ChangeRateFileName = f\"data/ChangeRate_SDMG_{houseType.value}.csv\"\n",
    "    ChangeRate = pd.read_csv(ChangeRateFileName)\n",
    "\n",
    "    df[\"YM\"] = df[\"dealDate\"] // 100\n",
    "    merged = pd.merge(df, ChangeRate, left_on=\"YM\", right_on=\"Date\", how=\"left\")\n",
    "\n",
    "    merged[\"monthlyRent\"] = merged[\"monthlyRent\"].astype(str).str.replace(',', '').astype(float)\n",
    "    merged[\"deposit\"] = merged[\"deposit\"].astype(str).str.replace(',', '').astype(float)\n",
    "    merged[\"calcedRent\"] = merged[\"monthlyRent\"] + merged[\"deposit\"]*merged[\"ChangeRate\"]/1200\n",
    "    \n",
    "    merged[\"RPA\"] = merged[\"calcedRent\"] / merged[\"excluUseAr\"]\n",
    "    merged[\"RPA\"] = merged[\"RPA\"].round(2)\n",
    "\n",
    "    merged = merged.drop(columns=[\"YM\", \"Date\"])\n",
    "    columns = [\"dealDate\", \"deposit\", \"monthlyRent\", \"ChangeRate\", \"calcedRent\", \"excluUseAr\", \"RPA\"]\n",
    "    for col in merged.columns:\n",
    "        if col not in columns:\n",
    "            columns.append(col)\n",
    "    merged = merged[columns]\n",
    "    print(merged)\n",
    "    merged.to_csv(\"data/tmp.csv\")\n",
    "    "
   ]
  },
  {
   "cell_type": "code",
   "execution_count": 5,
   "metadata": {},
   "outputs": [
    {
     "name": "stdout",
     "output_type": "stream",
     "text": [
      "       dealDate  deposit  monthlyRent  ChangeRate  calcedRent  excluUseAr  \\\n",
      "0      20110102  17000.0          0.0     7.20000  102.000000      59.788   \n",
      "1      20110102  16000.0          0.0     7.20000   96.000000      60.060   \n",
      "2      20110102  15000.0          0.0     7.20000   90.000000      59.700   \n",
      "3      20110102  15000.0          0.0     7.20000   90.000000      59.760   \n",
      "4      20110102  18000.0          0.0     7.20000  108.000000      84.960   \n",
      "...         ...      ...          ...         ...         ...         ...   \n",
      "34604  20191231  45000.0          0.0     3.71594  139.347750      59.790   \n",
      "34605  20191231  53000.0          0.0     3.71594  164.120683      84.956   \n",
      "34606  20191231  39000.0          0.0     3.71594  120.768050      84.210   \n",
      "34607  20191231  37000.0          0.0     3.71594  114.574817      84.660   \n",
      "34608  20191231  40000.0          0.0     3.71594  123.864667      84.780   \n",
      "\n",
      "        RPA      aptNm  buildYear contractTerm contractType  floor  jibun  \\\n",
      "0      1.71   래미안남가좌2차       2005          NaN                 1.0    379   \n",
      "1      1.60       홍제한양       1993          NaN                13.0     82   \n",
      "2      1.51       신촌럭키       1999  11.01~13.01           신규    5.0    144   \n",
      "3      1.51      월드컵현대       1998          NaN                15.0  371-1   \n",
      "4      1.27      홍은동벽산       1997          NaN                 6.0    455   \n",
      "...     ...        ...        ...          ...          ...    ...    ...   \n",
      "34604  2.33    DMC에코자이       2019          NaN                10.0    389   \n",
      "34605  1.93      북한산더샵       2017          NaN                 6.0    464   \n",
      "34606  1.43  DMC휴먼빌아파트       2008          NaN                 3.0    456   \n",
      "34607  1.35   DMC서부인터빌       2008          NaN                 1.0    467   \n",
      "34608  1.46     남가좌동현대       1999          NaN                19.0    376   \n",
      "\n",
      "      preDeposit  preMonthlyRent  sggCd umdNm useRRRight  \n",
      "0            NaN             NaN  11410  남가좌동             \n",
      "1            NaN             NaN  11410   홍제동             \n",
      "2            NaN             NaN  11410   대현동             \n",
      "3            NaN             NaN  11410  북가좌동             \n",
      "4            NaN             NaN  11410   홍은동             \n",
      "...          ...             ...    ...   ...        ...  \n",
      "34604        NaN             NaN  11410  남가좌동             \n",
      "34605        NaN             NaN  11410   홍은동             \n",
      "34606        NaN             NaN  11410  북가좌동             \n",
      "34607        NaN             NaN  11410  북가좌동             \n",
      "34608        NaN             NaN  11410  남가좌동             \n",
      "\n",
      "[34609 rows x 18 columns]\n"
     ]
    }
   ],
   "source": [
    "calc_newRent(HouseType.Apt, 2010)"
   ]
  }
 ],
 "metadata": {
  "kernelspec": {
   "display_name": "crawler-BMmfytdt-py3.13",
   "language": "python",
   "name": "python3"
  },
  "language_info": {
   "codemirror_mode": {
    "name": "ipython",
    "version": 3
   },
   "file_extension": ".py",
   "mimetype": "text/x-python",
   "name": "python",
   "nbconvert_exporter": "python",
   "pygments_lexer": "ipython3",
   "version": "3.13.1"
  }
 },
 "nbformat": 4,
 "nbformat_minor": 2
}
