{
 "cells": [
  {
   "cell_type": "markdown",
   "metadata": {},
   "source": [
    "# 전환율 데이터 가공"
   ]
  },
  {
   "cell_type": "code",
   "execution_count": 1,
   "metadata": {},
   "outputs": [],
   "source": [
    "import pandas as pd"
   ]
  },
  {
   "cell_type": "code",
   "execution_count": 6,
   "metadata": {},
   "outputs": [],
   "source": [
    "df = pd.read_csv('Data/raws/ChangeRate_raw.csv', encoding='euc-kr')\n",
    "df.to_csv('Data/ChangeRate.csv', index=False, encoding='utf-8')"
   ]
  },
  {
   "cell_type": "code",
   "execution_count": 9,
   "metadata": {},
   "outputs": [
    {
     "name": "stdout",
     "output_type": "stream",
     "text": [
      "    No  분류  분류.1  분류.2 2011년 1월 2011년 2월 2011년 3월 2011년 4월 2011년 5월 2011년 6월  \\\n",
      "23  23  서울  서대문구  서대문구  7.20000  7.20000  7.20000  7.20000  7.20000  7.20000   \n",
      "\n",
      "    ... 2024년 1월 2024년 2월 2024년 3월 2024년 4월 2024년 5월 2024년 6월 2024년 7월  \\\n",
      "23  ...  4.64826  4.62255  4.57599  4.60000  4.58400  4.59791  4.64816   \n",
      "\n",
      "   2024년 8월 2024년 9월 2024년 10월  \n",
      "23  4.65672  4.63320   4.58824  \n",
      "\n",
      "[1 rows x 170 columns]\n"
     ]
    }
   ],
   "source": [
    "filtered = df[(df['분류'] == '서울') & (df['분류.1'] == '서대문구')]\n",
    "print(filtered)"
   ]
  },
  {
   "cell_type": "code",
   "execution_count": 14,
   "metadata": {},
   "outputs": [
    {
     "name": "stdout",
     "output_type": "stream",
     "text": [
      "     No  분류  분류.1       Date ChangeRate\n",
      "0    23  서울  서대문구       분류.2       서대문구\n",
      "1    23  서울  서대문구   2011년 1월    7.20000\n",
      "2    23  서울  서대문구   2011년 2월    7.20000\n",
      "3    23  서울  서대문구   2011년 3월    7.20000\n",
      "4    23  서울  서대문구   2011년 4월    7.20000\n",
      "..   ..  ..   ...        ...        ...\n",
      "162  23  서울  서대문구   2024년 6월    4.59791\n",
      "163  23  서울  서대문구   2024년 7월    4.64816\n",
      "164  23  서울  서대문구   2024년 8월    4.65672\n",
      "165  23  서울  서대문구   2024년 9월    4.63320\n",
      "166  23  서울  서대문구  2024년 10월    4.58824\n",
      "\n",
      "[167 rows x 5 columns]\n"
     ]
    }
   ],
   "source": [
    "melted = filtered.melt(id_vars=['No', '분류', '분류.1'], var_name='Date', value_name='ChangeRate')\n",
    "print(melted)"
   ]
  },
  {
   "cell_type": "code",
   "execution_count": 15,
   "metadata": {},
   "outputs": [
    {
     "name": "stdout",
     "output_type": "stream",
     "text": [
      "          Date ChangeRate\n",
      "1     2011년 1월    7.20000\n",
      "2     2011년 2월    7.20000\n",
      "3     2011년 3월    7.20000\n",
      "4     2011년 4월    7.20000\n",
      "5     2011년 5월    7.20000\n",
      "..         ...        ...\n",
      "162   2024년 6월    4.59791\n",
      "163   2024년 7월    4.64816\n",
      "164   2024년 8월    4.65672\n",
      "165   2024년 9월    4.63320\n",
      "166  2024년 10월    4.58824\n",
      "\n",
      "[166 rows x 2 columns]\n"
     ]
    }
   ],
   "source": [
    "result = melted.iloc[1:][['Date', 'ChangeRate']]\n",
    "print(result)"
   ]
  },
  {
   "cell_type": "code",
   "execution_count": 16,
   "metadata": {},
   "outputs": [
    {
     "name": "stdout",
     "output_type": "stream",
     "text": [
      "       Date ChangeRate\n",
      "1    201101    7.20000\n",
      "2    201102    7.20000\n",
      "3    201103    7.20000\n",
      "4    201104    7.20000\n",
      "5    201105    7.20000\n",
      "..      ...        ...\n",
      "162  202406    4.59791\n",
      "163  202407    4.64816\n",
      "164  202408    4.65672\n",
      "165  202409    4.63320\n",
      "166  202410    4.58824\n",
      "\n",
      "[166 rows x 2 columns]\n"
     ]
    }
   ],
   "source": [
    "def convert_date(date_str):\n",
    "    year, month = date_str.replace('년', '').replace('월', '').split()\n",
    "    return f\"{year}{int(month):02d}\"\n",
    "\n",
    "result['Date'] = result['Date'].apply(convert_date)\n",
    "result = result.sort_values(by='Date')\n",
    "print(result)"
   ]
  },
  {
   "cell_type": "code",
   "execution_count": 17,
   "metadata": {},
   "outputs": [],
   "source": [
    "result.to_csv('Data/ChangeRate_SDMG.csv', index=False, encoding='utf-8')"
   ]
  }
 ],
 "metadata": {
  "kernelspec": {
   "display_name": "crawler-BMmfytdt-py3.13",
   "language": "python",
   "name": "python3"
  },
  "language_info": {
   "codemirror_mode": {
    "name": "ipython",
    "version": 3
   },
   "file_extension": ".py",
   "mimetype": "text/x-python",
   "name": "python",
   "nbconvert_exporter": "python",
   "pygments_lexer": "ipython3",
   "version": "3.13.1"
  }
 },
 "nbformat": 4,
 "nbformat_minor": 2
}
