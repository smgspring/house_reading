{
 "cells": [
  {
   "cell_type": "markdown",
   "metadata": {},
   "source": [
    "# 평당 가격에 대해 통계적 분석"
   ]
  },
  {
   "cell_type": "code",
   "execution_count": 2,
   "metadata": {},
   "outputs": [],
   "source": [
    "import pandas as pd"
   ]
  },
  {
   "cell_type": "code",
   "execution_count": 3,
   "metadata": {},
   "outputs": [
    {
     "name": "stdout",
     "output_type": "stream",
     "text": [
      "      Unnamed: 0  dealDate  deposit  monthlyRent  ChangeRate  calcedRent  \\\n",
      "0              0  20110107   5000.0         30.0     7.20000    390.0000   \n",
      "1              1  20110107   5000.0         30.0     7.20000    390.0000   \n",
      "2              2  20110108   2000.0         65.0     7.20000    209.0000   \n",
      "3              3  20110110   8000.0          0.0     7.20000    576.0000   \n",
      "4              4  20110110   1000.0         55.0     7.20000    127.0000   \n",
      "...          ...       ...      ...          ...         ...         ...   \n",
      "1064        1064  20191226  19000.0          0.0     3.71594    706.0286   \n",
      "1065        1065  20191228  10000.0         35.0     3.71594    406.5940   \n",
      "1066        1066  20191228   1000.0         85.0     3.71594    122.1594   \n",
      "1067        1067  20191231   5000.0         75.0     3.71594    260.7970   \n",
      "1068        1068  20191231  18500.0          0.0     3.71594    687.4489   \n",
      "\n",
      "      excluUseAr    RPA  buildYear contractTerm contractType  floor   jibun  \\\n",
      "0          26.32  14.82     2003.0  11.02~12.02           신규      4   136-7   \n",
      "1          26.03  14.98     2003.0          NaN                   7   136-7   \n",
      "2          25.69   8.14     2006.0  11.02~13.02           신규      4    90-1   \n",
      "3          19.38  29.72     2004.0          NaN                   2   97-64   \n",
      "4          16.83   7.55     2005.0          NaN                   4   218-1   \n",
      "...          ...    ...        ...          ...          ...    ...     ...   \n",
      "1064       31.41  22.48     2005.0          NaN                   6   29-81   \n",
      "1065       20.27  20.06     2017.0          NaN                  10   37-32   \n",
      "1066       17.84   6.85     2019.0          NaN                  16   90-60   \n",
      "1067       27.61   9.45     2014.0          NaN                   6  104-36   \n",
      "1068       17.66  38.93     2018.0          NaN                  15   90-77   \n",
      "\n",
      "            offiNm  preDeposit  preMonthlyRent  sggCd sggNm umdNm useRRRight  \n",
      "0          (136-7)         NaN             NaN  11410  서대문구   연희동             \n",
      "1          (136-7)         NaN             NaN  11410  서대문구   연희동             \n",
      "2           (90-1)         NaN             NaN  11410  서대문구   대신동             \n",
      "3        경선파인 오피스텔         NaN             NaN  11410  서대문구   창천동             \n",
      "4           연희체스트빌         NaN             NaN  11410  서대문구   연희동             \n",
      "...            ...         ...             ...    ...   ...   ...        ...  \n",
      "1064   신촌 르메이에르타운5         NaN             NaN  11410  서대문구   창천동             \n",
      "1065  영타운 지웰 에스테이트         NaN             NaN  11410  서대문구   대현동             \n",
      "1066       이대 포레스트         NaN             NaN  11410  서대문구   대현동             \n",
      "1067        신촌자이엘라         NaN             NaN  11410  서대문구   대현동             \n",
      "1068        유씨유 이대         NaN             NaN  11410  서대문구   대현동             \n",
      "\n",
      "[1069 rows x 20 columns]\n"
     ]
    }
   ],
   "source": [
    "df = pd.read_csv(\"Data/tmp.csv\")\n",
    "print(df)"
   ]
  },
  {
   "cell_type": "code",
   "execution_count": 4,
   "metadata": {},
   "outputs": [
    {
     "name": "stdout",
     "output_type": "stream",
     "text": [
      "Mean of RPA: 16.453741814780166\n",
      "Standard Deviation of RPA: 9.94375662028894\n"
     ]
    }
   ],
   "source": [
    "mean_rpa = df['RPA'].mean()\n",
    "std_rpa = df['RPA'].std()\n",
    "\n",
    "print(f\"Mean of RPA: {mean_rpa}\")\n",
    "print(f\"Standard Deviation of RPA: {std_rpa}\")"
   ]
  },
  {
   "cell_type": "code",
   "execution_count": null,
   "metadata": {},
   "outputs": [],
   "source": []
  }
 ],
 "metadata": {
  "kernelspec": {
   "display_name": "crawler-BMmfytdt-py3.13",
   "language": "python",
   "name": "python3"
  },
  "language_info": {
   "codemirror_mode": {
    "name": "ipython",
    "version": 3
   },
   "file_extension": ".py",
   "mimetype": "text/x-python",
   "name": "python",
   "nbconvert_exporter": "python",
   "pygments_lexer": "ipython3",
   "version": "3.13.1"
  }
 },
 "nbformat": 4,
 "nbformat_minor": 2
}
